{
 "cells": [
  {
   "cell_type": "markdown",
   "id": "24ac117a-6a4f-40c5-9855-19cc6db43b58",
   "metadata": {
    "tags": []
   },
   "source": [
    "# Basics of `python` programming\n",
    "In this notebook we will explain basic `Python` for machine learning"
   ]
  },
  {
   "cell_type": "markdown",
   "id": "4700872c-c145-41fa-b075-90e731d428de",
   "metadata": {},
   "source": [
    "## Derived datatypes in `Python`"
   ]
  },
  {
   "cell_type": "markdown",
   "id": "ae6f517a-1374-43b0-9b36-022c69ea7672",
   "metadata": {},
   "source": [
    ">**NOTE:**In python`int`,`float`,`string` etc are atomic datatypes and not declaration is required"
   ]
  },
  {
   "cell_type": "code",
   "execution_count": 1,
   "id": "c7c0dc53-004d-4940-af1e-c56b00fc814f",
   "metadata": {},
   "outputs": [],
   "source": [
    "my_list=[1,2,3]"
   ]
  },
  {
   "cell_type": "code",
   "execution_count": 2,
   "id": "6cb3c452-6c5b-4547-be35-27fae80b5b64",
   "metadata": {},
   "outputs": [
    {
     "data": {
      "text/plain": [
       "[1, 2, 3]"
      ]
     },
     "execution_count": 2,
     "metadata": {},
     "output_type": "execute_result"
    }
   ],
   "source": [
    "my_list"
   ]
  },
  {
   "cell_type": "code",
   "execution_count": 3,
   "id": "fc164147-eab0-4dfa-bccd-7ffbad5bbf95",
   "metadata": {},
   "outputs": [],
   "source": [
    "my_list=[1,'a',2,'b']"
   ]
  },
  {
   "cell_type": "code",
   "execution_count": 4,
   "id": "2c63dafd-22e8-4815-8881-c11606f33aff",
   "metadata": {},
   "outputs": [
    {
     "data": {
      "text/plain": [
       "[1, 'a', 2, 'b']"
      ]
     },
     "execution_count": 4,
     "metadata": {},
     "output_type": "execute_result"
    }
   ],
   "source": [
    "my_list"
   ]
  },
  {
   "cell_type": "code",
   "execution_count": 5,
   "id": "acc5ffef-8f0d-4add-9c53-b18214ccf3b7",
   "metadata": {},
   "outputs": [
    {
     "data": {
      "text/plain": [
       "1"
      ]
     },
     "execution_count": 5,
     "metadata": {},
     "output_type": "execute_result"
    }
   ],
   "source": [
    "my_list[0]"
   ]
  },
  {
   "cell_type": "code",
   "execution_count": 6,
   "id": "c5a1a362-a9cc-4846-b3da-d594d3373558",
   "metadata": {},
   "outputs": [],
   "source": [
    "my_list=[1,2,[100,200]]"
   ]
  },
  {
   "cell_type": "code",
   "execution_count": 8,
   "id": "b29cfe83-7d1f-4eec-983f-d3ac1ca0d83e",
   "metadata": {},
   "outputs": [
    {
     "data": {
      "text/plain": [
       "200"
      ]
     },
     "execution_count": 8,
     "metadata": {},
     "output_type": "execute_result"
    }
   ],
   "source": [
    "my_list[2][1]"
   ]
  },
  {
   "cell_type": "code",
   "execution_count": 9,
   "id": "f260aca7-b183-49a9-b94d-382a3a045e63",
   "metadata": {},
   "outputs": [],
   "source": [
    "my_list=['a','b','c','d']"
   ]
  },
  {
   "cell_type": "code",
   "execution_count": 10,
   "id": "431f3b97-fa33-4bcf-a631-df2019a46c22",
   "metadata": {},
   "outputs": [
    {
     "data": {
      "text/plain": [
       "['a', 'b', 'c', 'd']"
      ]
     },
     "execution_count": 10,
     "metadata": {},
     "output_type": "execute_result"
    }
   ],
   "source": [
    "my_list"
   ]
  },
  {
   "cell_type": "code",
   "execution_count": 11,
   "id": "21db1625-967a-4a55-9657-f8b3b568c4c0",
   "metadata": {},
   "outputs": [
    {
     "data": {
      "text/plain": [
       "['a']"
      ]
     },
     "execution_count": 11,
     "metadata": {},
     "output_type": "execute_result"
    }
   ],
   "source": [
    "my_list[:1]"
   ]
  },
  {
   "cell_type": "code",
   "execution_count": 12,
   "id": "c67f68be-f731-4417-a986-b177aa874992",
   "metadata": {},
   "outputs": [
    {
     "data": {
      "text/plain": [
       "['a', 'b']"
      ]
     },
     "execution_count": 12,
     "metadata": {},
     "output_type": "execute_result"
    }
   ],
   "source": [
    "my_list[:2]"
   ]
  },
  {
   "cell_type": "code",
   "execution_count": 13,
   "id": "4de36d27-e25d-44ed-aef1-c08593c56e2a",
   "metadata": {},
   "outputs": [],
   "source": [
    "my_list[0]=\"new\""
   ]
  },
  {
   "cell_type": "code",
   "execution_count": 14,
   "id": "cc0157c9-cf66-4756-b35d-5b1db65f80a5",
   "metadata": {},
   "outputs": [
    {
     "data": {
      "text/plain": [
       "['new', 'b', 'c', 'd']"
      ]
     },
     "execution_count": 14,
     "metadata": {},
     "output_type": "execute_result"
    }
   ],
   "source": [
    "my_list"
   ]
  },
  {
   "cell_type": "code",
   "execution_count": 15,
   "id": "0f4e5111-62b6-4530-a343-f74fac221948",
   "metadata": {},
   "outputs": [],
   "source": [
    "my_list.append(\"e\")"
   ]
  },
  {
   "cell_type": "code",
   "execution_count": 16,
   "id": "f1529e3f-c90c-418a-a4ce-ab6cabc36e60",
   "metadata": {},
   "outputs": [
    {
     "data": {
      "text/plain": [
       "['new', 'b', 'c', 'd', 'e']"
      ]
     },
     "execution_count": 16,
     "metadata": {},
     "output_type": "execute_result"
    }
   ],
   "source": [
    "my_list"
   ]
  },
  {
   "cell_type": "code",
   "execution_count": 17,
   "id": "5cc2b666-286b-433e-be16-489718d67cb5",
   "metadata": {},
   "outputs": [],
   "source": [
    "t=(1,2,3)"
   ]
  },
  {
   "cell_type": "code",
   "execution_count": 18,
   "id": "872ecebf-0356-4c74-9f53-f6e8600f9544",
   "metadata": {},
   "outputs": [
    {
     "data": {
      "text/plain": [
       "(1, 2, 3)"
      ]
     },
     "execution_count": 18,
     "metadata": {},
     "output_type": "execute_result"
    }
   ],
   "source": [
    "t"
   ]
  },
  {
   "cell_type": "code",
   "execution_count": 19,
   "id": "f93e0ad2-4d1d-412b-a4e8-939d1b499f05",
   "metadata": {},
   "outputs": [
    {
     "ename": "TypeError",
     "evalue": "'tuple' object does not support item assignment",
     "output_type": "error",
     "traceback": [
      "\u001b[0;31m---------------------------------------------------------------------------\u001b[0m",
      "\u001b[0;31mTypeError\u001b[0m                                 Traceback (most recent call last)",
      "Cell \u001b[0;32mIn[19], line 1\u001b[0m\n\u001b[0;32m----> 1\u001b[0m \u001b[43mt\u001b[49m\u001b[43m[\u001b[49m\u001b[38;5;241;43m0\u001b[39;49m\u001b[43m]\u001b[49m\u001b[38;5;241m=\u001b[39m\u001b[38;5;124m\"\u001b[39m\u001b[38;5;124mnew\u001b[39m\u001b[38;5;124m\"\u001b[39m\n",
      "\u001b[0;31mTypeError\u001b[0m: 'tuple' object does not support item assignment"
     ]
    }
   ],
   "source": [
    "t[0]=\"new\""
   ]
  },
  {
   "cell_type": "code",
   "execution_count": 20,
   "id": "25664798-6031-4de4-808c-5cb6b02c007d",
   "metadata": {},
   "outputs": [],
   "source": [
    "d={'name':'sani','age':20}"
   ]
  },
  {
   "cell_type": "code",
   "execution_count": 21,
   "id": "ed7ed03b-33fb-4a3a-aa8f-c337a0a310f6",
   "metadata": {},
   "outputs": [
    {
     "data": {
      "text/plain": [
       "{'name': 'sani', 'age': 20}"
      ]
     },
     "execution_count": 21,
     "metadata": {},
     "output_type": "execute_result"
    }
   ],
   "source": [
    "d"
   ]
  },
  {
   "cell_type": "code",
   "execution_count": 22,
   "id": "1d9c5eda-88f8-43a3-8599-618f07319125",
   "metadata": {},
   "outputs": [
    {
     "data": {
      "text/plain": [
       "20"
      ]
     },
     "execution_count": 22,
     "metadata": {},
     "output_type": "execute_result"
    }
   ],
   "source": [
    "d['age']"
   ]
  },
  {
   "cell_type": "code",
   "execution_count": 23,
   "id": "b98bd558-81d0-4fac-85ff-31cd931d3cf6",
   "metadata": {},
   "outputs": [
    {
     "data": {
      "text/plain": [
       "'sani'"
      ]
     },
     "execution_count": 23,
     "metadata": {},
     "output_type": "execute_result"
    }
   ],
   "source": [
    "d['name']"
   ]
  },
  {
   "cell_type": "code",
   "execution_count": 24,
   "id": "b06939e8-1d93-41a0-9046-e7b9cdf5c152",
   "metadata": {},
   "outputs": [
    {
     "data": {
      "text/plain": [
       "{1, 2, 3}"
      ]
     },
     "execution_count": 24,
     "metadata": {},
     "output_type": "execute_result"
    }
   ],
   "source": [
    "{1,2,3}"
   ]
  },
  {
   "cell_type": "code",
   "execution_count": 26,
   "id": "b116da05-8d2d-429a-98e0-92001c6372da",
   "metadata": {},
   "outputs": [],
   "source": [
    "def time2(var):\n",
    "    return var*2"
   ]
  },
  {
   "cell_type": "code",
   "execution_count": 27,
   "id": "3b3e0b55-0a58-4021-aada-276af76ce190",
   "metadata": {},
   "outputs": [
    {
     "data": {
      "text/plain": [
       "4"
      ]
     },
     "execution_count": 27,
     "metadata": {},
     "output_type": "execute_result"
    }
   ],
   "source": [
    "time2(2)"
   ]
  },
  {
   "cell_type": "code",
   "execution_count": 30,
   "id": "8276f75e-749e-4a38-9ffd-ef9fc90d198e",
   "metadata": {},
   "outputs": [],
   "source": [
    "time2=lambda var:var*2"
   ]
  },
  {
   "cell_type": "code",
   "execution_count": null,
   "id": "c0075f15-5aca-49f5-b877-bb6586b03fa3",
   "metadata": {},
   "outputs": [],
   "source": []
  },
  {
   "cell_type": "code",
   "execution_count": null,
   "id": "5f65c62a-f028-4a80-8431-a991ddea0b0f",
   "metadata": {},
   "outputs": [],
   "source": []
  },
  {
   "cell_type": "code",
   "execution_count": null,
   "id": "3fa93b19-5432-4065-86a8-8a449a0ed249",
   "metadata": {},
   "outputs": [],
   "source": []
  }
 ],
 "metadata": {
  "kernelspec": {
   "display_name": "Python 3 (Intel® oneAPI 2023.2)",
   "language": "python",
   "name": "c009-intel_distribution_of_python_3_oneapi-beta05-python"
  },
  "language_info": {
   "codemirror_mode": {
    "name": "ipython",
    "version": 3
   },
   "file_extension": ".py",
   "mimetype": "text/x-python",
   "name": "python",
   "nbconvert_exporter": "python",
   "pygments_lexer": "ipython3",
   "version": "3.9.16"
  }
 },
 "nbformat": 4,
 "nbformat_minor": 5
}
